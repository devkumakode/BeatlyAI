{
 "cells": [
  {
   "attachments": {},
   "cell_type": "markdown",
   "metadata": {},
   "source": [
    "# Model"
   ]
  },
  {
   "attachments": {},
   "cell_type": "markdown",
   "metadata": {},
   "source": [
    "epoch = 1 forward and backward pass of all training samples\n",
    "\n",
    "batch_size = number of training samples in one forward & backward pass\n",
    "\n",
    "number of iterations = number of passes, each pass using [batch_size] number of samples\n",
    "\n",
    "e.g. 100 samples, batch_size=20 --> 100/20 = 5 iterations for 1 epoch "
   ]
  },
  {
   "attachments": {},
   "cell_type": "markdown",
   "metadata": {},
   "source": [
    "1) Design model (input, output size, forward pass)\n",
    "\n",
    "2) Construct loss and optimizer\n",
    "\n",
    "3) Training Loop\n",
    "    - forward pass: compute prediction\n",
    "    - backward pass: gradients\n",
    "    - update weights: "
   ]
  },
  {
   "cell_type": "code",
   "execution_count": 1,
   "metadata": {},
   "outputs": [],
   "source": [
    "# import libraries\n",
    "import torch\n",
    "import torch.nn as nn\n",
    "import torch.optim as optim\n",
    "from torch.utils.data import Dataset, DataLoader\n",
    "import numpy as np\n",
    "import pandas as pd\n",
    "import os"
   ]
  },
  {
   "cell_type": "code",
   "execution_count": 2,
   "metadata": {},
   "outputs": [
    {
     "name": "stdout",
     "output_type": "stream",
     "text": [
      "c:\\Users\\Hansa Alahakoon\\Desktop\\4th year\\FYP\\e17-4yp-Comprehensive-ECG-analysis-with-Deep-Learning-on-GPU-accelerators\\data\\deepfake-ecg-small\\train.csv\n",
      "c:\\Users\\Hansa Alahakoon\\Desktop\\4th year\\FYP\\e17-4yp-Comprehensive-ECG-analysis-with-Deep-Learning-on-GPU-accelerators\\data\\deepfake-ecg-small\\train\n"
     ]
    }
   ],
   "source": [
    "# getting the path for the dataset\n",
    "\n",
    "# Get the parent directory\n",
    "current_directory = os.getcwd()\n",
    "parent_directory = os.path.dirname(current_directory)\n",
    "\n",
    "train_small_path = os.path.join(parent_directory, 'data','deepfake-ecg-small','train.csv')\n",
    "train_small_path_2 = os.path.join(parent_directory, 'data','deepfake-ecg-small','train')\n",
    "print(train_small_path)\n",
    "print(train_small_path_2)"
   ]
  },
  {
   "cell_type": "code",
   "execution_count": 3,
   "metadata": {},
   "outputs": [
    {
     "name": "stdout",
     "output_type": "stream",
     "text": [
      "torch.Size([8, 5000, 1])\n",
      "10000\n"
     ]
    }
   ],
   "source": [
    "ecg_tensors = []\n",
    "for filename in os.listdir(train_small_path_2):\n",
    "    file_path = os.path.join(train_small_path_2, filename)\n",
    "    ecg_data = np.loadtxt(file_path)\n",
    "    ecg_tensor = torch.from_numpy(ecg_data)\n",
    "    ecg_tensor = ecg_tensor.permute(1, 0).unsqueeze(2)\n",
    "    ecg_tensors.append(ecg_tensor)\n",
    "\n",
    "print(ecg_tensors[0].shape)\n",
    "print(len(ecg_tensors))\n",
    "# ecg_tensors = torch.stack(ecg_tensors, dim=2)\n",
    "# print(ecg_tensors.shape)"
   ]
  },
  {
   "cell_type": "code",
   "execution_count": 4,
   "metadata": {},
   "outputs": [
    {
     "name": "stdout",
     "output_type": "stream",
     "text": [
      "tensor([[[-127.],\n",
      "         [-162.],\n",
      "         [-142.],\n",
      "         ...,\n",
      "         [ -89.],\n",
      "         [ -39.],\n",
      "         [ -93.]],\n",
      "\n",
      "        [[  -1.],\n",
      "         [   0.],\n",
      "         [ -46.],\n",
      "         ...,\n",
      "         [ -18.],\n",
      "         [  22.],\n",
      "         [   5.]],\n",
      "\n",
      "        [[ -33.],\n",
      "         [  -8.],\n",
      "         [ -27.],\n",
      "         ...,\n",
      "         [  44.],\n",
      "         [  71.],\n",
      "         [  82.]],\n",
      "\n",
      "        ...,\n",
      "\n",
      "        [[ -92.],\n",
      "         [ -86.],\n",
      "         [ -87.],\n",
      "         ...,\n",
      "         [  67.],\n",
      "         [  89.],\n",
      "         [ 105.]],\n",
      "\n",
      "        [[ -61.],\n",
      "         [ -67.],\n",
      "         [ -70.],\n",
      "         ...,\n",
      "         [  52.],\n",
      "         [  88.],\n",
      "         [  26.]],\n",
      "\n",
      "        [[   2.],\n",
      "         [ -29.],\n",
      "         [ -25.],\n",
      "         ...,\n",
      "         [  69.],\n",
      "         [ 128.],\n",
      "         [ 115.]]], dtype=torch.float64) tensor(434)\n"
     ]
    }
   ],
   "source": [
    "class EcgDataset(Dataset):\n",
    "    def __init__(self):\n",
    "\n",
    "        # Read the CSV file using pandas\n",
    "        data_frame = pd.read_csv(train_small_path)\n",
    "\n",
    "        # Extract the column data as a pandas Series\n",
    "        y_column_data = data_frame['qt']\n",
    "\n",
    "        # Convert the pandas Series to a PyTorch tensor\n",
    "        self.x_data = ecg_tensors\n",
    "        self.y_data = torch.tensor(y_column_data.values)\n",
    "\n",
    "        self.n_samples = len(ecg_tensors)\n",
    "        \n",
    "    # support indexing such that dataset[i] can be used to get i-th sample\n",
    "    def __getitem__(self, index):\n",
    "        return self.x_data[index], self.y_data[index]\n",
    "\n",
    "    # we can call len(dataset) to return the size\n",
    "    def __len__(self):\n",
    "        return self.n_samples\n",
    "    \n",
    "# create dataset\n",
    "dataset = EcgDataset()\n",
    "\n",
    "# get first sample and unpack\n",
    "first_data = dataset[0]\n",
    "features, labels = first_data\n",
    "print(features, labels)"
   ]
  },
  {
   "cell_type": "code",
   "execution_count": 5,
   "metadata": {},
   "outputs": [],
   "source": [
    "# Load whole dataset with DataLoader\n",
    "# shuffle: shuffle data, good for training\n",
    "# num_workers: faster loading with multiple subprocesses\n",
    "# !!! IF YOU GET AN ERROR DURING LOADING, SET num_workers TO 0 !!!\n",
    "batch_size = 32\n",
    "dataloader = DataLoader(dataset=dataset,\n",
    "                          batch_size=batch_size,\n",
    "                          shuffle=True,\n",
    "                          num_workers=2)\n",
    "\n",
    "# # convert to an iterator and look at one random sample\n",
    "# dataiter = iter(train_loader)\n",
    "# data = next(dataiter)\n",
    "# features, labels = data\n",
    "# print(features, labels)"
   ]
  },
  {
   "cell_type": "code",
   "execution_count": 6,
   "metadata": {},
   "outputs": [],
   "source": [
    "# CNN model\n",
    "class CNN(nn.Module):\n",
    "    def __init__(self, num_classes):\n",
    "        super(CNN, self).__init__()\n",
    "        self.conv1 = nn.Conv1d(8, 16, kernel_size=3, stride=1, padding=1)\n",
    "        self.relu = nn.ReLU()\n",
    "        self.maxpool = nn.MaxPool1d(kernel_size=2, stride=2)\n",
    "        self.fc = nn.Linear(16 * 2500, num_classes)\n",
    "\n",
    "    def forward(self, x):\n",
    "        x = self.conv1(x)\n",
    "        x = self.relu(x)\n",
    "        x = self.maxpool(x)\n",
    "        x = x.view(x.size(0), -1)\n",
    "        x = self.fc(x)\n",
    "        return x\n"
   ]
  },
  {
   "cell_type": "code",
   "execution_count": 7,
   "metadata": {},
   "outputs": [],
   "source": [
    "# hyperparameters\n",
    "num_classes = 1  # Number of output classes\n",
    "learning_rate = 0.001\n",
    "num_epochs = 1"
   ]
  },
  {
   "cell_type": "code",
   "execution_count": 8,
   "metadata": {},
   "outputs": [],
   "source": [
    "model = CNN(num_classes)\n",
    "\n",
    "# criterion = nn.CrossEntropyLoss()\n",
    "criterion = nn.MSELoss()\n",
    "\n",
    "# optimizer = optim.Adam(model.parameters(), lr=learning_rate)\n",
    "optimizer = torch.optim.SGD(model.parameters(), lr=learning_rate)"
   ]
  },
  {
   "cell_type": "code",
   "execution_count": 9,
   "metadata": {},
   "outputs": [],
   "source": [
    "for epoch in range(num_epochs):\n",
    "    for batch_inputs, batch_labels in dataloader:\n",
    "        # Forward pass\n",
    "        outputs = model(batch_inputs)\n",
    "        loss = criterion(outputs, batch_labels)\n",
    "\n",
    "        # Backward pass and optimization\n",
    "        optimizer.zero_grad()\n",
    "        loss.backward()\n",
    "        optimizer.step()\n",
    "\n",
    "    # Print the loss after every epoch\n",
    "    print(f\"Epoch [{epoch+1}/{num_epochs}], Loss: {loss.item():.4f}\")"
   ]
  }
 ],
 "metadata": {
  "kernelspec": {
   "display_name": "fyp",
   "language": "python",
   "name": "python3"
  },
  "language_info": {
   "codemirror_mode": {
    "name": "ipython",
    "version": 3
   },
   "file_extension": ".py",
   "mimetype": "text/x-python",
   "name": "python",
   "nbconvert_exporter": "python",
   "pygments_lexer": "ipython3",
   "version": "3.11.3"
  },
  "orig_nbformat": 4
 },
 "nbformat": 4,
 "nbformat_minor": 2
}
